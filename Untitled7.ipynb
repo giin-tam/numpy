{
 "cells": [
  {
   "cell_type": "code",
   "execution_count": 22,
   "id": "e148ba9d",
   "metadata": {},
   "outputs": [
    {
     "name": "stdout",
     "output_type": "stream",
     "text": [
      "[[0, 1, 2], [3, 4, 5], [6, 7, 8]]\n"
     ]
    }
   ],
   "source": [
    "import numpy as np\n",
    "k=[]\n",
    "a = np.array([[0,1,2],[3,4,5],[6,7,8]])\n",
    "k=a.tolist()\n",
    "\n",
    "print(k)"
   ]
  },
  {
   "cell_type": "code",
   "execution_count": 45,
   "id": "17cc131d",
   "metadata": {},
   "outputs": [
    {
     "name": "stdout",
     "output_type": "stream",
     "text": [
      "12\n"
     ]
    }
   ],
   "source": [
    "import numpy as np\n",
    "a = np.array([[0,1,2],[3,4,5],[6,7,8]])\n",
    "q=0\n",
    "for i in range (len(a[0])):\n",
    "    q=q+a[i][i]\n",
    "print(q)\n",
    "    \n",
    "\n"
   ]
  },
  {
   "cell_type": "code",
   "execution_count": 31,
   "id": "5d563c36",
   "metadata": {},
   "outputs": [
    {
     "name": "stdout",
     "output_type": "stream",
     "text": [
      "put x2\n",
      "3 bigger than 2 and 4 bigger than 2 and 5 bigger than 2 and 6 bigger than 2 and 7 bigger than 2 and 8 bigger than 2 and "
     ]
    }
   ],
   "source": [
    "import numpy as np\n",
    "a = np.array([[0,1,2],[3,4,5],[6,7,8]])\n",
    "x=int (input (\"put x\"))\n",
    "\n",
    "\n",
    "for i in range (len(a[0])):\n",
    "    q=a[i]\n",
    "    for i in range (len(a[0])):\n",
    "        f=q[i]\n",
    "        if f>x :\n",
    "            print(f,\"bigger than\",x,end=(\" and \"))\n",
    "       \n",
    "    \n",
    "        \n",
    "        \n",
    "    "
   ]
  },
  {
   "cell_type": "code",
   "execution_count": 42,
   "id": "9c5932e1",
   "metadata": {},
   "outputs": [
    {
     "name": "stdout",
     "output_type": "stream",
     "text": [
      "[[9 9 9]\n",
      " [9 9 9]\n",
      " [9 9 9]]\n"
     ]
    }
   ],
   "source": [
    "import numpy as np\n",
    "A= np.array([[0,1,2],[3,4,5],[6,7,8]])\n",
    "B= np.array([[9,8,7],[6,5,4],[3,2,1]])\n",
    "C= np.add(A,B)\n",
    "print(C)"
   ]
  },
  {
   "cell_type": "code",
   "execution_count": 52,
   "id": "c13dd28a",
   "metadata": {},
   "outputs": [
    {
     "name": "stdout",
     "output_type": "stream",
     "text": [
      "1.0\n",
      "4.0\n",
      "7.0\n"
     ]
    }
   ],
   "source": [
    "import numpy as np\n",
    "a= np.array([[0,1,2],[3,4,5],[6,7,8]])\n",
    "for i in range (len(a)):\n",
    "    q=a[i]\n",
    "    c=q.mean()\n",
    "    print(c)\n",
    "    \n"
   ]
  },
  {
   "cell_type": "code",
   "execution_count": null,
   "id": "33b6fc66",
   "metadata": {},
   "outputs": [],
   "source": []
  }
 ],
 "metadata": {
  "kernelspec": {
   "display_name": "Python 3 (ipykernel)",
   "language": "python",
   "name": "python3"
  },
  "language_info": {
   "codemirror_mode": {
    "name": "ipython",
    "version": 3
   },
   "file_extension": ".py",
   "mimetype": "text/x-python",
   "name": "python",
   "nbconvert_exporter": "python",
   "pygments_lexer": "ipython3",
   "version": "3.9.12"
  }
 },
 "nbformat": 4,
 "nbformat_minor": 5
}
